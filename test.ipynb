{
 "cells": [
  {
   "cell_type": "code",
   "execution_count": 7,
   "id": "866a46fd",
   "metadata": {},
   "outputs": [],
   "source": [
    "#!pip install -r requirements.txt"
   ]
  },
  {
   "cell_type": "code",
   "execution_count": 8,
   "id": "8d3d35a3",
   "metadata": {},
   "outputs": [
    {
     "data": {
      "text/plain": [
       "True"
      ]
     },
     "execution_count": 8,
     "metadata": {},
     "output_type": "execute_result"
    }
   ],
   "source": [
    "import os\n",
    "from selenium import webdriver\n",
    "import time\n",
    "from dotenv import load_dotenv\n",
    "\n",
    "load_dotenv()"
   ]
  },
  {
   "cell_type": "code",
   "execution_count": 9,
   "id": "98a32df9",
   "metadata": {},
   "outputs": [],
   "source": [
    "EMAIL_MONDE = os.getenv(\"EMAIL_MONDE\")\n",
    "PASSWORD_MONDE = os.getenv(\"PASSWORD_MONDE\")"
   ]
  },
  {
   "cell_type": "code",
   "execution_count": 12,
   "id": "e69ad581",
   "metadata": {},
   "outputs": [],
   "source": [
    "URL_ARTICLE = \"https://www.lemonde.fr/idees/article/2025/09/12/comment-la-politique-de-l-offre-detourne-l-argent-public-au-profit-des-plus-riches_6640595_3232.html\"\n",
    "URL_COMMENTAIRES = URL_ARTICLE + \"?contributions\""
   ]
  },
  {
   "cell_type": "code",
   "execution_count": 14,
   "id": "5e40b7ac",
   "metadata": {},
   "outputs": [
    {
     "name": "stdout",
     "output_type": "stream",
     "text": [
      "https://www.lemonde.fr/idees/article/2025/09/12/comment-la-politique-de-l-offre-detourne-l-argent-public-au-profit-des-plus-riches_6640595_3232.html?contributions\n"
     ]
    }
   ],
   "source": [
    "print(URL_COMMENTAIRES)"
   ]
  },
  {
   "cell_type": "code",
   "execution_count": 11,
   "id": "0fe91cc7",
   "metadata": {},
   "outputs": [],
   "source": [
    "# Create a new instance of the Chrome driver\n",
    "driver = webdriver.Firefox()\n",
    "\n",
    "# Open Google\n",
    "#driver.get(\"https://www.lemonde.fr/\")\n",
    "driver.get(\"https://secure.lemonde.fr/sfuser/connexion\")\n",
    "\n",
    "input_element = driver.find_element(\"id\", \"email\")\n",
    "input_element.send_keys(EMAIL_MONDE)\n",
    "\n",
    "password_input = driver.find_element(\"id\", \"password\")\n",
    "password_input.send_keys(PASSWORD_MONDE)\n",
    "\n",
    "validate_button = driver.find_element(\"id\", \"submit-button\")\n",
    "validate_button.click()\n",
    "\n",
    "driver.get(URL_COMMENTAIRES)\n",
    "# Optional: Wait for a few seconds before closing (for demonstration)\n",
    "# time.sleep(10)\n",
    "\n",
    "# Close the browser\n",
    "# driver.quit()"
   ]
  }
 ],
 "metadata": {
  "kernelspec": {
   "display_name": ".venv (3.13.5)",
   "language": "python",
   "name": "python3"
  },
  "language_info": {
   "codemirror_mode": {
    "name": "ipython",
    "version": 3
   },
   "file_extension": ".py",
   "mimetype": "text/x-python",
   "name": "python",
   "nbconvert_exporter": "python",
   "pygments_lexer": "ipython3",
   "version": "3.13.5"
  }
 },
 "nbformat": 4,
 "nbformat_minor": 5
}
