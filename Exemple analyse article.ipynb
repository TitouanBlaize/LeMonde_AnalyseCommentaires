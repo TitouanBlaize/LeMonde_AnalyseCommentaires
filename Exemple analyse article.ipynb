{
 "cells": [
  {
   "cell_type": "markdown",
   "id": "866a46fd",
   "metadata": {},
   "source": [
    "!pip install -r requirements.txt"
   ]
  },
  {
   "cell_type": "markdown",
   "id": "359a0b82",
   "metadata": {},
   "source": [
    "# 0. Packages, env and clients"
   ]
  },
  {
   "cell_type": "code",
   "execution_count": 1,
   "id": "8d3d35a3",
   "metadata": {},
   "outputs": [
    {
     "data": {
      "text/plain": [
       "True"
      ]
     },
     "execution_count": 1,
     "metadata": {},
     "output_type": "execute_result"
    }
   ],
   "source": [
    "import os\n",
    "\n",
    "from dotenv import load_dotenv\n",
    "from selenium import webdriver\n",
    "from bs4 import BeautifulSoup\n",
    "from mistralai import Mistral\n",
    "\n",
    "import psycopg2\n",
    "\n",
    "load_dotenv()"
   ]
  },
  {
   "cell_type": "code",
   "execution_count": 2,
   "id": "98a32df9",
   "metadata": {},
   "outputs": [],
   "source": [
    "# Environment variables\n",
    "EMAIL_MONDE = os.getenv(\"EMAIL_MONDE\")\n",
    "PASSWORD_MONDE = os.getenv(\"PASSWORD_MONDE\")\n",
    "USER_PGSQL = os.getenv(\"USER_PGSQL\")\n",
    "PASSWORD_PGSQL = os.getenv(\"PASSWORD_PGSQL\")\n",
    "MISTRAL_API_KEY = os.getenv(\"MISTRAL_API_KEY\")\n",
    "MODEL = \"mistral-large-latest\"\n",
    "\n",
    "# URLs\n",
    "URL_ARTICLE = \"https://www.lemonde.fr/idees/article/2025/09/12/comment-la-politique-de-l-offre-detourne-l-argent-public-au-profit-des-plus-riches_6640595_3232.html\"\n",
    "URL_ARTICLE = \"https://www.lemonde.fr/idees/article/2025/09/14/patrick-artus-aux-etats-unis-le-capitalisme-de-monopole-provoque-sous-investissement-et-concentration-de-la-richesse_6641078_3232.html\"\n",
    "URL_ARTICLE = \"https://www.lemonde.fr/politique/article/2025/09/14/a-bordeaux-marine-le-pen-predit-la-chute-de-lecornu-et-promet-des-lendemains-qui-chantent_6641191_823448.html\"\n",
    "URL_COMMENTAIRES = URL_ARTICLE + \"?contributions&page=\""
   ]
  },
  {
   "cell_type": "code",
   "execution_count": 3,
   "id": "43cb8645",
   "metadata": {},
   "outputs": [],
   "source": [
    "connection = psycopg2.connect(\n",
    "            host=\"localhost\",        # ou \"127.0.0.1\"\n",
    "            port=\"5432\",            # port par défaut PostgreSQL\n",
    "            database=\"LeMondeComments\",  # remplacez par le nom de votre base\n",
    "            user=USER_PGSQL,   # remplacez par votre nom d'utilisateur\n",
    "            password=PASSWORD_PGSQL # remplacez par votre mot de passe\n",
    "        )"
   ]
  },
  {
   "cell_type": "code",
   "execution_count": 4,
   "id": "a0142e31",
   "metadata": {},
   "outputs": [],
   "source": [
    "client = Mistral(api_key=MISTRAL_API_KEY)"
   ]
  },
  {
   "cell_type": "markdown",
   "id": "f4e01820",
   "metadata": {},
   "source": [
    "# 1. Data acquisition and storage"
   ]
  },
  {
   "cell_type": "code",
   "execution_count": 5,
   "id": "0fe91cc7",
   "metadata": {},
   "outputs": [
    {
     "name": "stdout",
     "output_type": "stream",
     "text": [
      "Loading page 1...\n",
      "Loading page 2...\n",
      "Loading page 3...\n",
      "Loading page 4...\n",
      "Loading page 5...\n",
      "No more comments found.\n"
     ]
    }
   ],
   "source": [
    "# Create a new instance of the Chrome driver\n",
    "driver = webdriver.Firefox()\n",
    "\n",
    "# Open Google\n",
    "#driver.get(\"https://www.lemonde.fr/\")\n",
    "driver.get(\"https://secure.lemonde.fr/sfuser/connexion\")\n",
    "\n",
    "input_element = driver.find_element(\"id\", \"email\")\n",
    "input_element.send_keys(EMAIL_MONDE)\n",
    "\n",
    "password_input = driver.find_element(\"id\", \"password\")\n",
    "password_input.send_keys(PASSWORD_MONDE)\n",
    "\n",
    "validate_button = driver.find_element(\"id\", \"submit-button\")\n",
    "validate_button.click()\n",
    "\n",
    "all_comments = []\n",
    "\n",
    "next_page = True\n",
    "page = 0\n",
    "\n",
    "while next_page:\n",
    "\n",
    "    page += 1\n",
    "    print(f\"Loading page {page}...\")\n",
    "    driver.get(URL_COMMENTAIRES + str(page))\n",
    "    #time.sleep(2)  # Wait for 2 seconds to allow the page to load\n",
    "\n",
    "    html = driver.page_source\n",
    "\n",
    "    soup = BeautifulSoup(html)\n",
    "    #soup = BeautifulSoup(html, 'html.parser')\n",
    "\n",
    "    # Find all elements with class=\"comment_content\"\n",
    "    comment_contents = soup.find_all(class_=\"comment__content\")\n",
    "\n",
    "    if len(comment_contents) == 0:\n",
    "        next_page = False\n",
    "        print(\"No more comments found.\")\n",
    "        break\n",
    "\n",
    "    comment_list = [comment.text for comment in comment_contents]\n",
    "\n",
    "    all_comments.extend(comment_list)\n",
    "\n",
    "# Close the browser\n",
    "driver.quit()"
   ]
  },
  {
   "cell_type": "code",
   "execution_count": 6,
   "id": "4875a0f3",
   "metadata": {},
   "outputs": [
    {
     "name": "stdout",
     "output_type": "stream",
     "text": [
      "Il y a en tout 89 commentaires sur cet article.\n"
     ]
    }
   ],
   "source": [
    "print(f\"Il y a en tout {len(all_comments)} commentaires sur cet article.\")"
   ]
  },
  {
   "cell_type": "code",
   "execution_count": 7,
   "id": "b7af8730",
   "metadata": {},
   "outputs": [],
   "source": [
    "comment_txt = \"\\n\".join(all_comments)"
   ]
  },
  {
   "cell_type": "code",
   "execution_count": 8,
   "id": "5b693116",
   "metadata": {},
   "outputs": [],
   "source": [
    "cursor = connection.cursor()\n",
    "insert_query = \"INSERT INTO comments (title, url, txt) VALUES (%s, %s, %s);\"\n",
    "values = ('Coucou', URL_ARTICLE, comment_txt)\n",
    "cursor.execute(insert_query, values)\n",
    "connection.commit()\n",
    "cursor.close()"
   ]
  },
  {
   "cell_type": "markdown",
   "id": "b00ff397",
   "metadata": {},
   "source": [
    "# 2. Analyse des commentaires"
   ]
  },
  {
   "cell_type": "code",
   "execution_count": 9,
   "id": "795c1527",
   "metadata": {},
   "outputs": [],
   "source": [
    "PROMPT_BOT = f\"\"\"Tu es un expert détection d'ingérence par des bot russes.\n",
    "Parmi tous les commentaires suivantes, séparés par des retours à la ligne, indique celui qui est le plus à même d'être issu d'un bot russe :{comment_txt}\"\"\""
   ]
  },
  {
   "cell_type": "code",
   "execution_count": 10,
   "id": "5b0ce62a",
   "metadata": {},
   "outputs": [],
   "source": [
    "PROMPT_ANALYSE = f\"\"\"Tu es un expert en analyse de texte. \n",
    "Tu vas analyser les commentaires suivants issus d'un article du journal Le Monde. Chaque commentaire est séparé par un saut de ligne.\n",
    "Donne moi la liste des thèmes abordés dans ces commentaires, ainsi que le nombre d'occurrences pour chaque thème.\n",
    "Voici les commentaires à analyser :{comment_txt}\"\"\""
   ]
  },
  {
   "cell_type": "code",
   "execution_count": 11,
   "id": "387ff5e6",
   "metadata": {},
   "outputs": [],
   "source": [
    "PROMPT_ANALYSE = f\"\"\"Tu es un expert en analyse de texte. \n",
    "Tu vas analyser les commentaires suivants issus d'un article du journal Le Monde. Chaque commentaire est séparé par un saut de ligne.\n",
    "Voici les commentaires à analyser :{comment_txt}\"\"\""
   ]
  },
  {
   "cell_type": "code",
   "execution_count": 12,
   "id": "e4d1eb5b",
   "metadata": {},
   "outputs": [
    {
     "name": "stdout",
     "output_type": "stream",
     "text": [
      "Voici une analyse structurée des commentaires issus de l’article du *Monde*, organisée selon les **thèmes récurrents**, les **stratégies rhétoriques**, les **biais cognitifs**, et les **clivages politiques** qu’ils révèlent. Cette analyse met en lumière les dynamiques discursives autour du Rassemblement National (RN), de La France Insoumise (LFI), et du contexte politique français actuel.\n",
      "\n",
      "---\n",
      "\n",
      "### **1. Thèmes dominants**\n",
      "#### **A. La peur de l’extrême droite et les références historiques**\n",
      "- **Comparaisons avec les régimes autoritaires** :\n",
      "  - *\"Le Pen et Mélenchon main dans la main, comme Hitler et Staline\"* (pacte germano-soviétique de 1939).\n",
      "  - *\"La couleur [de la révolution] est brune\"* (référence au nazisme).\n",
      "  - *\"Espagne 1936, Chili 1974\"* (guerre civile et coup d’État de Pinochet).\n",
      "  - *\"Maréchal nous voilà\"* (chant collaborationniste de Vichy).\n",
      "  **Fonction** : Diabolisation du RN via des **amalgames historiques**, avec une **rhétorique de l’urgence** (\"l’histoire ne leur a rien appris\").\n",
      "\n",
      "- **Allégories carcérales** :\n",
      "  - *\"Des lendemains qui chantent… en cellule\"*.\n",
      "  - *\"Les portes du pénitencier bientôt vont se refermer\"*.\n",
      "  - *\"Elle n’est toujours pas en prison ?\"*\n",
      "  **Fonction** : Délégitimation par la **criminalisation** (affaires judiciaires de Marine Le Pen) et la **moquerie** (détournement du slogan \"les lendemains qui chantent\").\n",
      "\n",
      "#### **B. La critique économique et la démagogie**\n",
      "- **Promesses irréalistes** :\n",
      "  - *\"Des milliards qui tombent du ciel, un coût de l’immigration fantasmé, des baisses d’impôts pour tous…\"*.\n",
      "  - *\"Tu dis que des âneries, les gens veulent y croire et votent pour toi\"*.\n",
      "  **Fonction** : Dénonciation du **populisme économique**, avec une **ironie mordante** (\"Ah oui, c’est facile la politique\").\n",
      "\n",
      "- **Comparaisons internationales** :\n",
      "  - *\"Regardons ce qui se passe de l’autre côté de l’Atlantique [Trump]\"* → **Argument par l’exemple** pour discréditer le RN.\n",
      "  - *\"La politique économique de Trump fait baisser le pouvoir d’achat\"* → **Lien causal implicite** entre extrême droite et déclin économique.\n",
      "\n",
      "#### **C. La médiatisation et la stratégie politique**\n",
      "- **Accusation de complaisance médiatique** :\n",
      "  - *\"Toutes les chaînes lui font une couverture en or\"* → **Théorie du complot médiatique** (le RN serait surreprésenté).\n",
      "  - *\"Ça sert d’acheter les médias pour des raisons d’influence politique\"* → **Sous-entendu de corruption**.\n",
      "\n",
      "- **Stratégie de victimisation** :\n",
      "  - *\"Macron a dynamité la droite et la gauche modérées\"* → **Responsabilisation de Macron** dans la montée des extrêmes.\n",
      "  - *\"Les juges la condamneront en appel à de la prison ferme\"* → **Attente d’une justice \"réparatrice\"**.\n",
      "\n",
      "#### **D. La comparaison RN/LFI**\n",
      "- **Équivalence des extrêmes** :\n",
      "  - *\"Le RN ou LFI, une impasse !\"*.\n",
      "  - *\"Si on substitue 'étranger' par 'finance internationale', c’est à peu près du LFI\"*.\n",
      "  **Fonction** : **Symétrisation** des deux extrêmes pour discréditer toute alternative à Macron.\n",
      "\n",
      "- **Dénonciation de l’utopie** :\n",
      "  - *\"Projet utopique centré autour de l’immigration\"* (RN) vs. *\"Taxer les milliardaires\"* (LFI).\n",
      "  **Fonction** : **Réductionnisme** (les programmes sont résumés à un seul thème).\n",
      "\n",
      "#### **E. La crise de la représentation**\n",
      "- **Désillusion envers les élites** :\n",
      "  - *\"C’est comme si ceux qui se pensaient élites étaient des couillons comme les autres\"* (critique de Macron).\n",
      "  - *\"Pauvre parti socialiste prêt à marchander ses convictions pour un plat de lentilles\"*.\n",
      "  **Fonction** : **Cynisme politique** et **désenchantement démocratique**.\n",
      "\n",
      "- **Appel à l’union républicaine** :\n",
      "  - *\"Il faut que tous les Français sérieux s’accordent sur des mesures raisonnables\"*.\n",
      "  **Fonction** : **Plaidoyer pour un front républicain** contre les extrêmes.\n",
      "\n",
      "---\n",
      "\n",
      "### **2. Stratégies rhétoriques**\n",
      "| **Stratégie**               | **Exemples**                                                                 | **Effet recherché**                          |\n",
      "|-----------------------------|-----------------------------------------------------------------------------|---------------------------------------------|\n",
      "| **Hyperbole**               | *\"Des milliards qui tombent du ciel\"*, *\"catastrophe\"*                      | Dramatisation                               |\n",
      "| **Ironie/sarcasme**         | *\"Ah oui, c’est facile la politique\"*, *\"Marine vous a piqué comme un frelon\"* | Ridiculisation                              |\n",
      "| **Analogies historiques**  | *\"Hitler et Staline\"*, *\"Espagne 1936\"*                                    | Culpabilisation par association             |\n",
      "| **Questions rhétoriques**  | *\"L’histoire ne leur a donc rien appris ?\"*, *\"Pourquoi ne voient-ils pas le danger ?\"* | Provocation et engagement du lecteur        |\n",
      "| **Métaphores animales**     | *\"Girouette\"*, *\"frelon\"*, *\"moutons\"* (pour les électeurs)                 | Déshumanisation ou moquerie                 |\n",
      "| **Chiasme**                 | *\"Liberté, Égalité, Fraternité\"* (opposé à l’extrême droite)               | Contraste moral                             |\n",
      "| **Parodie**                 | Détournement de chansons (*\"Le lundi au soleil avec la fille du borgne\"*)  | Subversion humoristique                     |\n",
      "\n",
      "---\n",
      "\n",
      "### **3. Biais cognitifs et mécanismes psychologiques**\n",
      "- **Biais de confirmation** :\n",
      "  - Les commentaires **recherchent des preuves** confirmant leurs préjugés (ex. : *\"Le RN n’a jamais su faire baisser l’immigration\"*).\n",
      "- **Effet de halo négatif** :\n",
      "  - Une caractéristique (ex. : affaires judiciaires de Le Pen) **contamine la perception globale** du parti.\n",
      "- **Pensée binaire** :\n",
      "  - **Dichotomie bien/mal** (\"démocratie vs. extrêmes\"), **simplification** (\"tous pourris sauf nous\").\n",
      "- **Théorie de l’attribution** :\n",
      "  - Les échecs du RN sont **attribués à des traits intrinsèques** (\"incompétence\", \"malhonnêteté\"), tandis que ceux de Macron sont **externalisés** (\"crise du Covid\", \"guerre en Ukraine\").\n",
      "- **Effet de groupe** :\n",
      "  - **\"Tout le monde le dit\"** → Légitimation par la répétition (*\"70 ans que ce clan pollue la vie des Français\"*).\n",
      "\n",
      "---\n",
      "### **4. Clivages politiques et sociétaux**\n",
      "#### **A. RN vs. LFI : Deux extrêmes symétriques ?**\n",
      "- **Pour les commentateurs** :\n",
      "  - Le RN et LFI sont **deux faces d’une même pièce** (populisme, démagogie, rejet des élites).\n",
      "  - **Différence majeure** : Le RN est associé à **l’autoritarisme et le racisme**, LFI à **l’utopie économique et l’anti-capitalisme**.\n",
      "- **Mais** :\n",
      "  - Certains distinguent **l’origine sociale des électeurs** (RN = \"mécontents\", LFI = \"jeunes précaires\").\n",
      "  - **LFI est moins diabolisé** (moins de références à l’emprisonnement ou au nazisme).\n",
      "\n",
      "#### **B. La question de l’immigration**\n",
      "- **Pour le RN** (selon les commentaires) :\n",
      "  - **Obsession** (\"leur seul sujet\"), **bouc émissaire** (\"sacrifier l’étranger\").\n",
      "- **Pour les opposants** :\n",
      "  - **Réalisme économique** (\"Sans immigration, qui s’occupera de nos vieux ?\").\n",
      "  - **Hypocrisie** (\"Le RN critique l’immigration mais emploie des Roumains\").\n",
      "\n",
      "#### **C. La dette et l’économie**\n",
      "- **Critique de Macron** :\n",
      "  - *\"La dette n’a jamais été aussi haute\"* → **Échec de la politique libérale**.\n",
      "- **Crainte du RN** :\n",
      "  - *\"L’incompétence et la démagogie mènent à la misère\"* → **Peur d’un effondrement économique**.\n",
      "\n",
      "---\n",
      "### **5. Ton et émotion dominante**\n",
      "| **Émotion**       | **Exemples**                                                                 | **Fonction**                                |\n",
      "|-------------------|-----------------------------------------------------------------------------|--------------------------------------------|\n",
      "| **Peur**          | *\"Ils me font peur\"*, *\"Ca craint vraiment\"*                              | Mobilisation contre l’extrême droite      |\n",
      "| **Colère**        | *\"Trop de haine et de menaces\"*, *\"Bande d’irresponsables\"*                | Indignation morale                        |\n",
      "| **Moquerie**      | *\"Jordan et des Kevin à la pelle !\"*, *\"Il avait fini de colorier ?\"*      | Dévalorisation par le rire                |\n",
      "| **Désespoir**     | *\"Pauvre France\"*, *\"On est mal parti\"*                                   | Résignation ou appel à l’action           |\n",
      "| **Ironie noire**  | *\"Des lendemains qui chantent… en cellule\"*, *\"Marine en Madame Soleil\"*   | Dénonciation par l’absurde                |\n",
      "\n",
      "---\n",
      "### **6. Limites et angles morts**\n",
      "- **Peu de nuances** :\n",
      "  - Absence de **voix pro-RN** (ou très marginales) → **bulle idéologique** du lectorat du *Monde*.\n",
      "  - **Pas d’analyse des causes** de la montée du RN (désindustrialisation, insécurité culturelle, etc.).\n",
      "- **Simplifications** :\n",
      "  - Le RN est réduit à **Marine Le Pen et Bardella**, sans mention de ses élus locaux ou de son évolution programmatique.\n",
      "  - LFI est associée à **Mélenchon seul**, sans distinction entre ses différentes tendances.\n",
      "- **Occultation des responsabilités** :\n",
      "  - Peu de critiques sur **le rôle des médias** dans la polarisation (sauf pour dénoncer leur complaisance envers le RN).\n",
      "  - **Macron est critiqué**, mais sans proposition alternative claire.\n",
      "\n",
      "---\n",
      "### **7. Conclusion : Un débat polarisé et émotionnel**\n",
      "Ces commentaires reflètent :\n",
      "1. **Une peur viscérale de l’extrême droite**, nourrie par des **références historiques traumatisantes** (Vichy, nazisme).\n",
      "2. **Un rejet symétrique de LFI**, mais avec **moins de charge affective** (moins de comparaisons carcérales ou génocidaires).\n",
      "3. **Un désenchantement démocratique** :\n",
      "   - **Défiance envers les élites** (Macron, médias).\n",
      "   - **Nostalgie d’un centre fort** (appels à l’union républicaine).\n",
      "4. **Un discours souvent performatif** :\n",
      "   - Les commentaires **ne cherchent pas à convaincre** mais à **renforcer les convictions** du groupe (lecteurs du *Monde*).\n",
      "   - **L’humour et l’ironie** servent à **désamorcer l’angoisse** par la ridicule.\n",
      "\n",
      "#### **Perspectives** :\n",
      "- **Pour les médias** : Comment couvrir le RN sans **le normaliser** ni **le diaboliser** ?\n",
      "- **Pour les partis traditionnels** : Comment **reconstruire un récit mobilisateur** face à la défiance ?\n",
      "- **Pour les citoyens** : Comment **dépasser les émotions** (peur, colère) pour un débat **rationnel** sur les programmes ?\n",
      "\n",
      "---\n",
      "### **Annexe : Typologie des commentateurs**\n",
      "| **Profil**                | **Caractéristiques**                                                                 | **Exemple**                                |\n",
      "|---------------------------|------------------------------------------------------------------------------------|--------------------------------------------|\n",
      "| **L’historien alarmiste** | Utilise des références au XXᵉ siècle pour alerter.                                  | *\"Espagne 1936, Chili 1974\"*              |\n",
      "| **L’économiste sceptique** | Dénonce les promesses irréalistes.                                                  | *\"Des milliards qui tombent du ciel\"*      |\n",
      "| **Le moraliste**          | Juge sur des critères éthiques (honnêteté, compétence).                            | *\"Bande de médiocres\"*, *\"escrocs\"*       |\n",
      "| **Le cynique**            | Désabusé, utilise l’ironie.                                                        | *\"On se gondole !\"*, *\"Marine en Madame Soleil\"* |\n",
      "| **Le stratège politique**  | Analyse les rapports de force.                                                      | *\"Macron a dynamité la droite et la gauche\"* |\n",
      "| **Le nostalgique**        | Régrette un passé idéalisé (ex. : PS des années 1980).                            | *\"Pauvre parti socialiste\"*               |\n",
      "\n",
      "---\n",
      "Cette analyse montre que les commentaires du *Monde* sont **moins un débat qu’un exutoire**, où **l’émotion prime sur l’argumentation**. Ils révèlent une société française **divisée, angoissée, et en quête de repères**, dans un contexte de **crise de la représentation** et de **montée des extrêmes**.\n"
     ]
    }
   ],
   "source": [
    "chat_response = client.chat.complete(\n",
    "    model= MODEL,\n",
    "    messages = [\n",
    "        {\n",
    "            \"role\": \"user\",\n",
    "            \"content\": PROMPT_ANALYSE,\n",
    "        },\n",
    "    ]\n",
    ")\n",
    "print(chat_response.choices[0].message.content)"
   ]
  }
 ],
 "metadata": {
  "kernelspec": {
   "display_name": ".venv (3.13.5)",
   "language": "python",
   "name": "python3"
  },
  "language_info": {
   "codemirror_mode": {
    "name": "ipython",
    "version": 3
   },
   "file_extension": ".py",
   "mimetype": "text/x-python",
   "name": "python",
   "nbconvert_exporter": "python",
   "pygments_lexer": "ipython3",
   "version": "3.13.5"
  }
 },
 "nbformat": 4,
 "nbformat_minor": 5
}
