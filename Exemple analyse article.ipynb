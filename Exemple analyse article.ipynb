{
 "cells": [
  {
   "cell_type": "markdown",
   "id": "866a46fd",
   "metadata": {},
   "source": [
    "!pip install -r requirements.txt"
   ]
  },
  {
   "cell_type": "code",
   "execution_count": 1,
   "id": "8d3d35a3",
   "metadata": {},
   "outputs": [
    {
     "data": {
      "text/plain": [
       "True"
      ]
     },
     "execution_count": 1,
     "metadata": {},
     "output_type": "execute_result"
    }
   ],
   "source": [
    "import os\n",
    "import time\n",
    "import requests\n",
    "\n",
    "from dotenv import load_dotenv\n",
    "from selenium import webdriver\n",
    "from bs4 import BeautifulSoup\n",
    "from mistralai import Mistral\n",
    "\n",
    "load_dotenv()"
   ]
  },
  {
   "cell_type": "code",
   "execution_count": 2,
   "id": "98a32df9",
   "metadata": {},
   "outputs": [],
   "source": [
    "# Environment variables\n",
    "EMAIL_MONDE = os.getenv(\"EMAIL_MONDE\")\n",
    "PASSWORD_MONDE = os.getenv(\"PASSWORD_MONDE\")\n",
    "MISTRAL_API_KEY = os.getenv(\"MISTRAL_API_KEY\")\n",
    "MODEL = \"mistral-large-latest\"\n",
    "\n",
    "# URLs\n",
    "URL_ARTICLE = \"https://www.lemonde.fr/idees/article/2025/09/12/comment-la-politique-de-l-offre-detourne-l-argent-public-au-profit-des-plus-riches_6640595_3232.html\"\n",
    "URL_ARTICLE = \"https://www.lemonde.fr/idees/article/2025/09/14/patrick-artus-aux-etats-unis-le-capitalisme-de-monopole-provoque-sous-investissement-et-concentration-de-la-richesse_6641078_3232.html\"\n",
    "URL_COMMENTAIRES = URL_ARTICLE + \"?contributions&page=\""
   ]
  },
  {
   "cell_type": "code",
   "execution_count": 3,
   "id": "0fe91cc7",
   "metadata": {},
   "outputs": [
    {
     "name": "stdout",
     "output_type": "stream",
     "text": [
      "Loading page 1...\n",
      "Loading page 2...\n",
      "Loading page 3...\n",
      "Loading page 4...\n",
      "No more comments found.\n"
     ]
    }
   ],
   "source": [
    "# Create a new instance of the Chrome driver\n",
    "driver = webdriver.Firefox()\n",
    "\n",
    "# Open Google\n",
    "#driver.get(\"https://www.lemonde.fr/\")\n",
    "driver.get(\"https://secure.lemonde.fr/sfuser/connexion\")\n",
    "\n",
    "input_element = driver.find_element(\"id\", \"email\")\n",
    "input_element.send_keys(EMAIL_MONDE)\n",
    "\n",
    "password_input = driver.find_element(\"id\", \"password\")\n",
    "password_input.send_keys(PASSWORD_MONDE)\n",
    "\n",
    "validate_button = driver.find_element(\"id\", \"submit-button\")\n",
    "validate_button.click()\n",
    "\n",
    "all_comments = []\n",
    "\n",
    "next_page = True\n",
    "page = 0\n",
    "\n",
    "while next_page:\n",
    "\n",
    "    page += 1\n",
    "    print(f\"Loading page {page}...\")\n",
    "    driver.get(URL_COMMENTAIRES + str(page))\n",
    "    #time.sleep(2)  # Wait for 2 seconds to allow the page to load\n",
    "\n",
    "    html = driver.page_source\n",
    "\n",
    "    soup = BeautifulSoup(html)\n",
    "    #soup = BeautifulSoup(html, 'html.parser')\n",
    "\n",
    "    # Find all elements with class=\"comment_content\"\n",
    "    comment_contents = soup.find_all(class_=\"comment__content\")\n",
    "\n",
    "    if len(comment_contents) == 0:\n",
    "        next_page = False\n",
    "        print(\"No more comments found.\")\n",
    "        break\n",
    "\n",
    "    comment_list = [comment.text for comment in comment_contents]\n",
    "\n",
    "    all_comments.extend(comment_list)\n",
    "\n",
    "# Close the browser\n",
    "driver.quit()"
   ]
  },
  {
   "cell_type": "code",
   "execution_count": 4,
   "id": "4875a0f3",
   "metadata": {},
   "outputs": [
    {
     "data": {
      "text/plain": [
       "51"
      ]
     },
     "execution_count": 4,
     "metadata": {},
     "output_type": "execute_result"
    }
   ],
   "source": [
    "len(all_comments)"
   ]
  },
  {
   "cell_type": "code",
   "execution_count": 5,
   "id": "9132353d",
   "metadata": {},
   "outputs": [
    {
     "data": {
      "text/plain": [
       "0"
      ]
     },
     "execution_count": 5,
     "metadata": {},
     "output_type": "execute_result"
    }
   ],
   "source": [
    "len(comment_contents)"
   ]
  },
  {
   "cell_type": "code",
   "execution_count": 6,
   "id": "b7af8730",
   "metadata": {},
   "outputs": [],
   "source": [
    "comment_txt = \"\\n\".join(all_comments)"
   ]
  },
  {
   "cell_type": "code",
   "execution_count": 7,
   "id": "387ff5e6",
   "metadata": {},
   "outputs": [],
   "source": [
    "PROMPT_ANALYSE = f\"\"\"Tu es un expert en analyse de texte. \n",
    "Tu vas analyser les commentaires suivants issus d'un article du journal Le Monde. Chaque commentaire est séparé par un saut de ligne.\n",
    "Voici les commentaires à analyser :{comment_txt}\"\"\""
   ]
  },
  {
   "cell_type": "code",
   "execution_count": 8,
   "id": "2f2be4a8",
   "metadata": {},
   "outputs": [],
   "source": [
    "PROMPT_ANALYSE = f\"\"\"Tu es un expert en analyse de texte. \n",
    "Tu vas analyser les commentaires suivants issus d'un article du journal Le Monde. Chaque commentaire est séparé par un saut de ligne.\n",
    "Donne moi la liste des thèmes abordés dans ces commentaires, ainsi que le nombre d'occurrences pour chaque thème.\n",
    "Voici les commentaires à analyser :{comment_txt}\"\"\""
   ]
  },
  {
   "cell_type": "code",
   "execution_count": 9,
   "id": "e4d1eb5b",
   "metadata": {},
   "outputs": [
    {
     "name": "stdout",
     "output_type": "stream",
     "text": [
      "Voici une analyse thématique des commentaires, avec le nombre d'occurrences pour chaque thème principal. Certains thèmes se recoupent ou sont abordés sous des angles différents, mais j’ai regroupé les idées centrales.\n",
      "\n",
      "---\n",
      "\n",
      "### **Liste des thèmes et occurrences**\n",
      "\n",
      "1. **Capitalisme et monopoles** (32 occurrences)\n",
      "   - Critique du capitalisme de monopole (ex. : GAFAM, banques, télécoms, etc.).\n",
      "   - Comparaison avec les monopoles historiques (ex. : \"barons voleurs\" aux États-Unis, monopoles d'État en France).\n",
      "   - Débat sur la régulation (ou son absence) des monopoles.\n",
      "   - Exemples : *\"Le capitalisme de monopole n'est jamais que la suite du néolibéralisme\"*, *\"Les monopoles publics français (SNCF, EDF) vs. monopoles privés américains\"*, *\"La finance est un monopole de fait\"*.\n",
      "\n",
      "2. **Néolibéralisme et dérégulation** (20 occurrences)\n",
      "   - Critique du néolibéralisme comme cause des inégalités et des monopoles.\n",
      "   - Références à Reagan, Thatcher, et leur héritage.\n",
      "   - Débat sur la définition du néolibéralisme (ex. : *\"Reagan n’était pas néolibéral, il a augmenté les dépenses publiques\"*).\n",
      "   - Exemples : *\"L’idéologie néolibérale a généré le capitalisme de monopole\"*, *\"Le néolibéralisme est à l’origine de (presque) tous nos maux\"*.\n",
      "\n",
      "3. **Inégalités économiques et redistribution** (18 occurrences)\n",
      "   - Débat sur la justice sociale et la redistribution (ex. : impôts, patrimoine, revenu médian).\n",
      "   - Critique des inégalités comme problème structurel vs. argument du \"niveau de vie moyen\".\n",
      "   - Exemples : *\"On se moque que 1 % s’enrichisse, tant que la majorité voit ses conditions s’améliorer\"*, *\"L’État est le pire des patrons [à cause des prélèvements]\"*, *\"Taxer et rien d’autre\"* (critique des solutions fiscales).\n",
      "\n",
      "4. **Comparaison États-Unis vs. Europe/France** (16 occurrences)\n",
      "   - Supériorité perçue du modèle américain (innovation, croissance, capitalisation) vs. déclin européen.\n",
      "   - Critique du modèle français (monopoles publics, déficits, fiscalité).\n",
      "   - Exemples : *\"Aux USA, les monopoles créent de la richesse. En France, ils fument des milliards\"*, *\"L’Europe doit investir son épargne en Europe, pas aux États-Unis\"*, *\"La croissance américaine à 2-3 % est déjà une performance vs. l’Europe\"*.\n",
      "\n",
      "5. **Productivité et croissance économique** (12 occurrences)\n",
      "   - Analyse des causes du ralentissement de la croissance (baisse de la productivité, tertiarisation, automatisation).\n",
      "   - Rôle de l’IA et des nouvelles technologies comme leviers futurs.\n",
      "   - Exemples : *\"La croissance post-guerre s’explique par la productivité agricole et industrielle, pas par le capitalisme\"*, *\"L’IA pourrait changer la donne dans les services\"*.\n",
      "\n",
      "6. **Rôle de l’État et régulation** (11 occurrences)\n",
      "   - Débat sur l’interventionnisme étatique (ex. : politiques antitrust, fiscalité, service public).\n",
      "   - Critique de l’État français (dépenses, déficits, monopoles publics).\n",
      "   - Exemples : *\"Le capitalisme n’est redistributif que si le politique l’y force\"*, *\"Privatiser immédiatement la SNCF et l’audiovisuel public\"*, *\"L’État capte l’épargne pour son train de vie\"*.\n",
      "\n",
      "7. **Innovation et technologie** (10 occurrences)\n",
      "   - Rôle des GAFAM et des \"7 Magnifiques\" dans l’innovation et la captation de valeur.\n",
      "   - Comparaison avec l’Europe (manque d’investissement, retard technologique).\n",
      "   - Exemples : *\"Sous-investissement européen dans l’IA, le quantique, les vaccins ARNm\"*, *\"La puissance des GAFAM repose sur leur capacité à capter l’épargne\"*.\n",
      "\n",
      "8. **Critique des médias et des économistes** (8 occurrences)\n",
      "   - Remise en question de l’expertise des économistes (ex. : Patrick Artus, Piketty).\n",
      "   - Critique du traitement médiatique (biais, simplifications).\n",
      "   - Exemples : *\"Gros concours d’économistes du dimanche\"*, *\"Article bien écrit, tranchant avec le bredouillis habituel du Monde\"*, *\"Les éditorialistes du Monde ne comprennent rien à l’économie\"*.\n",
      "\n",
      "9. **Environnement et coûts externes** (6 occurrences)\n",
      "   - Absence de prise en compte des coûts environnementaux dans l’analyse économique.\n",
      "   - Critique de la croissance basée sur la destruction des \"services écosystémiques gratuits\".\n",
      "   - Exemples : *\"Pas un mot sur la destruction de l’environnement considéré comme gratuit\"*, *\"La finance décide quoi fabriquer sans contrainte sociale ou environnementale\"*.\n",
      "\n",
      "10. **Populisme et vote des classes populaires** (5 occurrences)\n",
      "    - Incompréhension face au vote des défavorisés pour des partis anti-redistribution (ex. : RN).\n",
      "    - Accusation de manipulation (ex. : *\"Le RN fait gober que renvoyer les étrangers rendra les Français plus riches\"*).\n",
      "    - Exemples : *\"C’est sidérant que les plus défavorisés votent pour ceux qui veulent les appauvrir\"*.\n",
      "\n",
      "11. **Épargne et investissement** (5 occurrences)\n",
      "    - Débat sur l’orientation de l’épargne (vers les monopoles, l’État, ou l’innovation).\n",
      "    - Critique de la captation de l’épargne par les GAFAM vs. les États.\n",
      "    - Exemples : *\"L’argent disponible pour investir a fait la puissance des États-Unis\"*, *\"L’épargne va vers le profit, pas vers le déficit\"*.\n",
      "\n",
      "12. **Marxisme et théories économiques alternatives** (4 occurrences)\n",
      "    - Références à Marx, Piketty, ou Sweezy/Baran (*Monopoly Capital*).\n",
      "    - Critique des analyses \"marxisantes\" ou \"de gauche\".\n",
      "    - Exemples : *\"Voilà où conduit l’analyse marxienne\"*, *\"Lisez *Monopoly Capital* de Sweezy et Baran (1966) !\"*.\n",
      "\n",
      "13. **Corporatisme et syndicats** (3 occurrences)\n",
      "    - Critique des privilèges des fonctionnaires et des syndicats en France.\n",
      "    - Exemples : *\"Monopoles publics protégés par des syndicats congelés dans le soviétisme\"*, *\"L’État socialo-communiste et ses statufiés\"*.\n",
      "\n",
      "14. **Démographie et marché du travail** (2 occurrences)\n",
      "    - Rôle de l’entrée des femmes sur le marché du travail dans la croissance post-guerre.\n",
      "    - Exemple : *\"Il faut ajouter l’entrée des femmes sur le marché du travail aux causes de la croissance des Trente Glorieuses\"*.\n",
      "\n",
      "15. **Humour et ironie** (5 occurrences)\n",
      "    - Commentaires sarcastiques ou moqueurs (ex. : *\"Économistes du dimanche\"*, *\"J’espère que Reagan et Thatcher rôtissent en enfer\"*).\n",
      "    - Exemples : *\"Lundi, ils redeviendront fleuriste ou conducteur de taxi\"*, *\"Le Mexique vous attend, avec ses entrepreneurs libérés de toute contrainte\"*.\n",
      "\n",
      "---\n",
      "\n",
      "### **Thèmes transversaux ou sous-jacents**\n",
      "- **Méfiance envers les élites** (économistes, médias, politiques).\n",
      "- **Opposition gauche/droite** (redistribution vs. libéralisme, État vs. marché).\n",
      "- **Pessimisme sur l’avenir** (crainte de la vassalisation européenne, déclin français).\n",
      "- **Débat sur la définition du progrès** (croissance vs. bien-être, innovation vs. inégalités).\n",
      "\n",
      "---\n",
      "### **Remarques méthodologiques**\n",
      "- Certains commentaires abordent **plusieurs thèmes** (ex. : un même message peut critiquer les monopoles, le néolibéralisme, et comparer les États-Unis à la France).\n",
      "- Les **occurrences** comptabilisent les idées centrales, pas les mots-clés (ex. : une phrase comme *\"Le néolibéralisme a généré des monopoles qui appauvrissent les classes moyennes\"* est comptée pour les thèmes 1, 2 et 3).\n",
      "- Les **réponses entre commentateurs** (ex. : @Novi) ont été intégrées aux thèmes principaux.\n",
      "\n",
      "---\n",
      "### **Thèmes dominants (top 5)**\n",
      "1. **Capitalisme et monopoles** (32)\n",
      "2. **Néolibéralisme** (20)\n",
      "3. **Inégalités et redistribution** (18)\n",
      "4. **Comparaison États-Unis/Europe** (16)\n",
      "5. **Productivité et croissance** (12)\n",
      "\n",
      "Cette analyse révèle une **polarisation forte** entre :\n",
      "- Une **critique structurelle** du capitalisme (monopoles, inégalités, néolibéralisme).\n",
      "- Une **défense du modèle américain** (innovation, croissance, méfiance envers l’État).\n",
      "- Un **débat franco-français** sur le rôle de l’État et la fiscalité.\n"
     ]
    }
   ],
   "source": [
    "client = Mistral(api_key=MISTRAL_API_KEY)\n",
    "\n",
    "chat_response = client.chat.complete(\n",
    "    model= MODEL,\n",
    "    messages = [\n",
    "        {\n",
    "            \"role\": \"user\",\n",
    "            \"content\": PROMPT_ANALYSE,\n",
    "        },\n",
    "    ]\n",
    ")\n",
    "print(chat_response.choices[0].message.content)"
   ]
  },
  {
   "cell_type": "code",
   "execution_count": 10,
   "id": "4f92f1ef",
   "metadata": {},
   "outputs": [],
   "source": [
    "PROMPT_BOT = f\"\"\"Tu es un expert détection d'ingérence par des bot russes.\n",
    "Parmi tous les commentaires suivantes, séparés par des retours à la ligne, indique celui qui est le plus à même d'être issu d'un bot russe :{comment_txt}\"\"\""
   ]
  },
  {
   "cell_type": "markdown",
   "id": "2e2c64eb",
   "metadata": {},
   "source": [
    "chat_response = client.chat.complete(\n",
    "    model= MODEL,\n",
    "    messages = [\n",
    "        {\n",
    "            \"role\": \"user\",\n",
    "            \"content\": PROMPT_BOT,\n",
    "        },\n",
    "    ]\n",
    ")\n",
    "print(chat_response.choices[0].message.content)"
   ]
  }
 ],
 "metadata": {
  "kernelspec": {
   "display_name": ".venv (3.13.5)",
   "language": "python",
   "name": "python3"
  },
  "language_info": {
   "codemirror_mode": {
    "name": "ipython",
    "version": 3
   },
   "file_extension": ".py",
   "mimetype": "text/x-python",
   "name": "python",
   "nbconvert_exporter": "python",
   "pygments_lexer": "ipython3",
   "version": "3.13.5"
  }
 },
 "nbformat": 4,
 "nbformat_minor": 5
}
