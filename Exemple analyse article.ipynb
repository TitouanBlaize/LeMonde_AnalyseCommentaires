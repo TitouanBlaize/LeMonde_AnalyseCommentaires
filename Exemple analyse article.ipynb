{
 "cells": [
  {
   "cell_type": "markdown",
   "id": "866a46fd",
   "metadata": {},
   "source": [
    "!pip install -r requirements.txt"
   ]
  },
  {
   "cell_type": "code",
   "execution_count": 1,
   "id": "8d3d35a3",
   "metadata": {},
   "outputs": [
    {
     "data": {
      "text/plain": [
       "True"
      ]
     },
     "execution_count": 1,
     "metadata": {},
     "output_type": "execute_result"
    }
   ],
   "source": [
    "import os\n",
    "import time\n",
    "import requests\n",
    "\n",
    "from dotenv import load_dotenv\n",
    "from selenium import webdriver\n",
    "from bs4 import BeautifulSoup\n",
    "from mistralai import Mistral\n",
    "\n",
    "load_dotenv()"
   ]
  },
  {
   "cell_type": "code",
   "execution_count": 2,
   "id": "98a32df9",
   "metadata": {},
   "outputs": [],
   "source": [
    "# Environment variables\n",
    "EMAIL_MONDE = os.getenv(\"EMAIL_MONDE\")\n",
    "PASSWORD_MONDE = os.getenv(\"PASSWORD_MONDE\")\n",
    "MISTRAL_API_KEY = os.getenv(\"MISTRAL_API_KEY\")\n",
    "MODEL = \"mistral-large-latest\"\n",
    "\n",
    "# URLs\n",
    "URL_ARTICLE = \"https://www.lemonde.fr/idees/article/2025/09/12/comment-la-politique-de-l-offre-detourne-l-argent-public-au-profit-des-plus-riches_6640595_3232.html\"\n",
    "URL_COMMENTAIRES = URL_ARTICLE + \"?contributions&page=\""
   ]
  },
  {
   "cell_type": "code",
   "execution_count": 3,
   "id": "1f9fbb8d",
   "metadata": {},
   "outputs": [
    {
     "data": {
      "text/plain": [
       "'https://www.lemonde.fr/idees/article/2025/09/12/comment-la-politique-de-l-offre-detourne-l-argent-public-au-profit-des-plus-riches_6640595_3232.html?contributions&page=15'"
      ]
     },
     "execution_count": 3,
     "metadata": {},
     "output_type": "execute_result"
    }
   ],
   "source": [
    "URL_COMMENTAIRES + \"15\""
   ]
  },
  {
   "cell_type": "code",
   "execution_count": 4,
   "id": "0fe91cc7",
   "metadata": {},
   "outputs": [
    {
     "name": "stdout",
     "output_type": "stream",
     "text": [
      "Loading page 1...\n",
      "Loading page 2...\n",
      "Loading page 3...\n",
      "Loading page 4...\n",
      "Loading page 5...\n",
      "Loading page 6...\n",
      "Loading page 7...\n",
      "Loading page 8...\n",
      "Loading page 9...\n",
      "Loading page 10...\n",
      "Loading page 11...\n",
      "Loading page 12...\n",
      "Loading page 13...\n",
      "Loading page 14...\n",
      "Loading page 15...\n"
     ]
    }
   ],
   "source": [
    "# Create a new instance of the Chrome driver\n",
    "driver = webdriver.Firefox()\n",
    "\n",
    "# Open Google\n",
    "#driver.get(\"https://www.lemonde.fr/\")\n",
    "driver.get(\"https://secure.lemonde.fr/sfuser/connexion\")\n",
    "\n",
    "input_element = driver.find_element(\"id\", \"email\")\n",
    "input_element.send_keys(EMAIL_MONDE)\n",
    "\n",
    "password_input = driver.find_element(\"id\", \"password\")\n",
    "password_input.send_keys(PASSWORD_MONDE)\n",
    "\n",
    "validate_button = driver.find_element(\"id\", \"submit-button\")\n",
    "validate_button.click()\n",
    "\n",
    "all_comments = []\n",
    "\n",
    "for page in range(1, 16):\n",
    "    print(f\"Loading page {page}...\")\n",
    "    driver.get(URL_COMMENTAIRES + str(page))\n",
    "    #time.sleep(2)  # Wait for 2 seconds to allow the page to load\n",
    "\n",
    "    html = driver.page_source\n",
    "\n",
    "    soup = BeautifulSoup(html)\n",
    "    #soup = BeautifulSoup(html, 'html.parser')\n",
    "\n",
    "    # Find all elements with class=\"comment_content\"\n",
    "    comment_contents = soup.find_all(class_=\"comment__content\")\n",
    "\n",
    "    comment_list = [comment.text for comment in comment_contents]\n",
    "\n",
    "    all_comments.extend(comment_list)\n",
    "\n",
    "# Close the browser\n",
    "driver.quit()"
   ]
  },
  {
   "cell_type": "code",
   "execution_count": 5,
   "id": "4875a0f3",
   "metadata": {},
   "outputs": [
    {
     "data": {
      "text/plain": [
       "437"
      ]
     },
     "execution_count": 5,
     "metadata": {},
     "output_type": "execute_result"
    }
   ],
   "source": [
    "len(all_comments)"
   ]
  },
  {
   "cell_type": "code",
   "execution_count": 6,
   "id": "b7af8730",
   "metadata": {},
   "outputs": [],
   "source": [
    "comment_txt = \"\\n\".join(all_comments)"
   ]
  },
  {
   "cell_type": "code",
   "execution_count": 7,
   "id": "387ff5e6",
   "metadata": {},
   "outputs": [],
   "source": [
    "PROMPT_ANALYSE = f\"\"\"Tu es un expert en analyse de texte. \n",
    "Tu vas analyser les commentaires suivants issus d'un article du journal Le Monde. Chaque commentaire est séparé par un saut de ligne.\n",
    "Voici les commentaires à analyser :{comment_txt}\"\"\""
   ]
  },
  {
   "cell_type": "code",
   "execution_count": 8,
   "id": "e4d1eb5b",
   "metadata": {},
   "outputs": [
    {
     "name": "stdout",
     "output_type": "stream",
     "text": [
      "Voici une analyse structurée des commentaires issus de l'article du *Monde* sur le livre dénonçant le \"grand détournement\" des fonds publics vers les ultra-riches et les grandes entreprises. Les réactions reflètent une diversité d'opinions, souvent polarisées, mais aussi des débats économiques et idéologiques profonds. Voici une synthèse des principaux thèmes et arguments, ainsi que des dynamiques sous-jacentes.\n",
      "\n",
      "---\n",
      "\n",
      "### **1. Thèmes centraux et arguments clés**\n",
      "#### **a) Critique de la politique de l'offre et des aides aux entreprises**\n",
      "- **Détournement des fonds publics** : Beaucoup de commentateurs dénoncent un système où les aides aux entreprises (270 milliards d'euros selon le livre) profitent surtout aux actionnaires et aux ultra-riches, sans garantie de retombées économiques pour la collectivité. Exemples :\n",
      "  - *\"Les exonérations de charges sociales et les niches fiscales sont des cadeaux sans contrepartie\"* (plusieurs commentaires).\n",
      "  - *\"Le CICE (Crédit d'Impôt pour la Compétitivité et l'Emploi) a surtout servi à gonfler les dividendes\"* (référence à des études ou rapports sénatoriaux).\n",
      "  - *\"Les entreprises du CAC 40, comme LVMH ou Total, bénéficient de ces aides tout en délocalisant ou en optimisant fiscalement\"* (exemple de CMA-CGM cité dans le livre).\n",
      "\n",
      "- **Manque de transparence et de contrôle** :\n",
      "  - *\"Personne ne sait où va cet argent ni son efficacité réelle\"* (plusieurs commentaires soulignent l'absence d'évaluation des dispositifs).\n",
      "  - *\"Les contrôles sont insuffisants, ce qui favorise les fraudes et les effets d'aubaine\"* (exemple du CIR, Crédit Impôt Recherche, souvent détourné).\n",
      "\n",
      "- **Injustice fiscale** :\n",
      "  - *\"Les ultra-riches paient proportionnellement moins d'impôts que les classes moyennes\"* (référence aux travaux de Gabriel Zucman, malgré les critiques sur sa méthodologie).\n",
      "  - *\"La flat tax et la suppression de l'ISF ont aggravé les inégalités\"* (argument récurrent chez les contributeurs de gauche).\n",
      "\n",
      "#### **b) Défense de la politique de l'offre et des entreprises**\n",
      "- **Nécessité de soutenir les entreprises** :\n",
      "  - *\"Sans ces aides, les entreprises françaises ne seraient pas compétitives face à la Chine ou l'Europe de l'Est\"* (argument des coûts salariaux et fiscaux élevés en France).\n",
      "  - *\"Les exonérations de charges sur les bas salaires ont permis de créer 1 million d'emplois\"* (chiffres avancés par certains commentateurs).\n",
      "  - *\"Les entreprises paient déjà énormément d'impôts (650 milliards/an selon un commentaire) et sont les premières contributrices à l'État\"*.\n",
      "\n",
      "- **Critique des alternatives** :\n",
      "  - *\"La politique de la demande (keynésienne) a échoué dans les années 1980 (exemple de Mitterrand) et ne ferait qu'aggraver la dette\"* (argument des libéraux).\n",
      "  - *\"Taxer davantage les entreprises les pousserait à délocaliser ou à licencier\"* (crainte d'un effet contre-productif).\n",
      "\n",
      "- **Défense des ultra-riches** :\n",
      "  - *\"Les milliardaires paient déjà des impôts indirects (TVA, taxes sur les sociétés) et créent des emplois\"* (argument des \"créateurs de richesse\").\n",
      "  - *\"Leur fortune est volatile (actions) et ne se traduit pas en cash disponible\"* (réponse aux accusations de non-contribution fiscale).\n",
      "\n",
      "#### **c) Débat sur la dette et la redistribution**\n",
      "- **Origine de la dette** :\n",
      "  - *\"La dette a explosé à cause des baisses d'impôts pour les riches (droite) et des dépenses non maîtrisées (gauche)\"* (débat sur la responsabilité politique).\n",
      "  - *\"Le déficit commercial (importations > exportations) est un problème structurel que les aides aux entreprises n'ont pas résolu\"* (argument des désindustrialisation).\n",
      "\n",
      "- **Redistribution inefficace** :\n",
      "  - *\"La France est déjà le pays le plus redistributif de l'OCDE, mais les services publics se dégradent\"* (questionnement sur l'efficacité de la dépense publique).\n",
      "  - *\"Les classes moyennes paient pour tout, tandis que les ultra-riches et les plus pauvres sont épargnés\"* (sentiment d'injustice fiscale).\n",
      "\n",
      "#### **d) Critiques méthodologiques et idéologiques**\n",
      "- **Fiabilité des chiffres** :\n",
      "  - *\"Les 270 milliards incluent des dispositifs légitimes (exonérations pour les bas salaires, aides aux PME)\"* (remise en cause du chiffrage du livre).\n",
      "  - *\"Le rapport sénatorial parle de 210 milliards, pas 270\"* (débat sur les sources).\n",
      "  - *\"Zucman et ses travaux sont contestés (exemple de son éviction de Berkeley, infondée en réalité)\"* (attaques ad hominem contre les auteurs).\n",
      "\n",
      "- **Biais idéologiques** :\n",
      "  - *\"C'est un pamphlet de gauche qui diabolise les entreprises et les riches\"* (accusation de complotisme ou de populisme).\n",
      "  - *\"Le Monde fait de la pub pour un livre militant\"* (critique du traitement médiatique).\n",
      "  - *\"Les commentateurs de gauche ignorent les échecs du socialisme (exemple du Venezuela)\"* (argument des libéraux).\n",
      "\n",
      "- **Propositions alternatives** :\n",
      "  - *\"Il faut supprimer les niches fiscales inutiles et taxer les héritages\"* (solution prônée par la gauche).\n",
      "  - *\"Réduire les dépenses publiques (retraites, fonctionnaires) plutôt que d'augmenter les impôts\"* (solution libérale).\n",
      "  - *\"Instaurer une TVA sociale aux frontières pour protéger l'industrie française\"* (proposition souverainiste).\n",
      "\n",
      "---\n",
      "\n",
      "### **2. Dynamiques sous-jacentes**\n",
      "#### **a) Polarisation politique**\n",
      "- **Cloisonnement des débats** :\n",
      "  - Les commentaires se divisent clairement entre :\n",
      "    - **Pro-gauche** : Pour une fiscalité plus progressive, un contrôle des aides aux entreprises, et une redistribution accrue. Exemple : *\"Il faut faire payer les ultra-riches pour financer les services publics\"*.\n",
      "    - **Pro-droite/libérale** : Pour une baisse des impôts, une réduction des dépenses publiques, et une défense des entreprises. Exemple : *\"Les entreprises sont déjà trop taxées, les aides sont nécessaires pour la compétitivité\"*.\n",
      "    - **Centristes/technocrates** : Appellent à des réformes ciblées (ex : évaluer l'efficacité des aides) sans remettre en cause le système. Exemple : *\"Il faut rationaliser les dispositifs, pas tout supprimer\"*.\n",
      "\n",
      "- **Recours aux stéréotypes** :\n",
      "  - *\"Les riches sont des parasites\"* (gauche) vs. *\"Les assistés profitent du système\"* (droite).\n",
      "  - *\"Les journalistes du Monde sont des gauchistes\"* vs. *\"Les libéraux sont des complices des milliardaires\"*.\n",
      "\n",
      "#### **b) Méfiance envers les élites et les médias**\n",
      "- **Défiance généralisée** :\n",
      "  - *\"Les médias (comme Le Monde) sont aux mains des milliardaires\"* (accusation de partialité).\n",
      "  - *\"Les économistes sont corrompus ou incompétents\"* (rejet de l'expertise, surtout quand elle contredit les préjugés).\n",
      "  - *\"Les politiques mentent et servent leurs intérêts\"* (cynisme envers la classe dirigeante).\n",
      "\n",
      "- **Théories du complot** :\n",
      "  - *\"C'est un complot des riches pour appauvrir le peuple\"* (gauche radicale).\n",
      "  - *\"C'est un complot des gauchistes pour détruire l'économie\"* (droite radicale).\n",
      "\n",
      "#### **c) Incompréhensions économiques**\n",
      "- **Confusion entre entreprises et ultra-riches** :\n",
      "  - Beaucoup de commentateurs amalgament les aides aux PME (qui créent des emplois) et les cadeaux fiscaux aux milliardaires (optimisation, flat tax). Or, les enjeux sont différents :\n",
      "    - Les PME ont besoin de soutien pour survivre face à la concurrence internationale.\n",
      "    - Les ultra-riches bénéficient de dispositifs (trusts, exonérations) qui réduisent leur contribution fiscale.\n",
      "\n",
      "- **Méconnaissance des mécanismes fiscaux** :\n",
      "  - *\"Les entreprises ne paient pas d'impôts\"* → Faux : elles paient l'IS (impôt sur les sociétés), les cotisations sociales, la TVA, etc. Mais certaines optimisent ou bénéficient de niches.\n",
      "  - *\"La TVA réduite est un cadeau aux entreprises\"* → Faux : la TVA est payée par le consommateur, pas par l'entreprise (qui la reverse à l'État).\n",
      "\n",
      "- **Ignorance des données macroéconomiques** :\n",
      "  - *\"La France est le pays le plus taxé au monde\"* → Vrai pour les prélèvements obligatoires (46% du PIB), mais faux pour les entreprises (le taux effectif d'IS est aligné sur la moyenne européenne depuis 2018).\n",
      "  - *\"Les aides aux entreprises sont une spécificité française\"* → Faux : tous les pays de l'OCDE subventionnent leurs entreprises (ex : Allemagne avec les *Kurzarbeit* pendant le Covid).\n",
      "\n",
      "#### **d) Sentiment d'injustice et colère sociale**\n",
      "- **Classes moyennes écrasées** :\n",
      "  - *\"On nous serre la vis (IR, CSG) tandis que les riches trichent et les pauvres touchent des aides\"* (sentiment de être le \"dindon de la farce\").\n",
      "  - *\"Les retraités et les fonctionnaires sont montés contre les privés\"* (clivage public/privé).\n",
      "\n",
      "- **Rejet des \"élites\"** :\n",
      "  - *\"Macron est le président des riches\"* (accusation récurrente).\n",
      "  - *\"Les patrons du CAC 40 gagnent des millions tandis que les salariés stagnent\"* (colère contre les écarts de revenus).\n",
      "\n",
      "- **Désillusion démocratique** :\n",
      "  - *\"À quoi bon voter ? Tous les gouvernements font la même politique\"* (sentiment d'impuissance).\n",
      "  - *\"L'abstention monte car les gens ne croient plus en rien\"* (crise de représentation).\n",
      "\n",
      "---\n",
      "\n",
      "### **3. Points de convergence (rares mais notables)**\n",
      "- **Nécessité de transparence** :\n",
      "  - Même les défenseurs des aides aux entreprises reconnaissent qu'un meilleur contrôle et une évaluation rigoureuse sont nécessaires. Exemple : *\"Il faut auditer l'efficacité du CIR et du CICE\"*.\n",
      "\n",
      "- **Critique des retraites des régimes spéciaux** :\n",
      "  - Droite comme gauche dénoncent les privilèges des retraites de la SNCF ou de la RATP, financées par l'État.\n",
      "\n",
      "- **Rejet des excès** :\n",
      "  - Personne ne défend les fraudes fiscales ou les dividendes excessifs (ex : *\"Si une entreprise touche des aides et verse des dividendes, c'est un scandale\"*).\n",
      "\n",
      "---\n",
      "\n",
      "### **4. Limites des débats en ligne**\n",
      "- **Simplifications excessives** :\n",
      "  - Les commentaires réduisent souvent des problèmes complexes à des slogans (*\"Taxons les riches !\"* vs. *\"Baissons les impôts !\"*).\n",
      "  - Peu de nuances sur les différences entre PME et multinationales, ou entre aides ciblées et cadeaux fiscaux.\n",
      "\n",
      "- **Manque de sources fiables** :\n",
      "  - Les chiffres sont souvent sortis de leur contexte (ex : comparer la France à la Suisse sans tenir compte des différences de coût de la vie ou de système de santé).\n",
      "  - Les études citées (Zucman, rapport sénatorial) sont soit idolâtrées, soit rejetées sans analyse critique.\n",
      "\n",
      "- **Émotions > arguments** :\n",
      "  - Beaucoup de réactions sont guidées par la colère ou la peur (ex : *\"On va finir comme le Venezuela !\"* ou *\"Les riches nous volent !\"*).\n",
      "\n",
      "---\n",
      "\n",
      "### **5. Pistes pour un débat plus constructif**\n",
      "#### **a) Clarifier les termes**\n",
      "- Distinguer :\n",
      "  - **Aides aux PME** (soutien à l'emploi local) vs. **cadeaux aux multinationales** (optimisation fiscale).\n",
      "  - **Allègements de charges sur les bas salaires** (efficaces pour l'emploi) vs. **niches fiscales pour les hauts revenus** (ex : flat tax).\n",
      "  - **Dette publique** (causée par les dépenses ET les baisses d'impôts) vs. **dette privée** (endettement des ménages).\n",
      "\n",
      "#### **b) Propositions concrètes**\n",
      "- **Pour les partisans d'une fiscalité plus juste** :\n",
      "  - Instaurer un impôt minimal sur les bénéfices des multinationales (comme l'accord OCDE de 2021, mais avec un taux plus élevé).\n",
      "  - Supprimer les niches fiscales inefficaces (ex : CIR pour les grandes entreprises).\n",
      "  - Taxer les héritages et les très hauts patrimoines (ex : rétablir un ISF ciblé sur les patrimoine > 10M€).\n",
      "\n",
      "- **Pour les défenseurs des entreprises** :\n",
      "  - Cibler les aides sur les PME et les secteurs stratégiques (transition écologique, santé).\n",
      "  - Conditionner les exonérations à des contreparties (emplois locaux, investissements).\n",
      "  - Simplifier le système fiscal pour réduire les coûts de conformité.\n",
      "\n",
      "- **Pour tous** :\n",
      "  - Exiger une évaluation indépendante des dispositifs d'aides (par la Cour des comptes ou un organisme neutre).\n",
      "  - Lutter contre l'évasion fiscale (renforcer les moyens de l'administration fiscale).\n",
      "\n",
      "#### **c) Sortir des clivages stériles**\n",
      "- Reconnaître que :\n",
      "  - **Les entreprises ont besoin de stabilité fiscale** pour investir, mais **les ultra-riches doivent contribuer davantage**.\n",
      "  - **La dette est un problème**, mais **la réduire uniquement par des coupes sociales est injuste**.\n",
      "  - **La redistribution est nécessaire**, mais **elle doit être efficace** (ex : cibler les aides sur l'éducation ou la santé plutôt que sur des subventions inefficaces).\n",
      "\n",
      "---\n",
      "### **6. Conclusion : Un débat symptomatique des fractures françaises**\n",
      "Les commentaires reflètent les **trois France** qui s'affrontent aujourd'hui :\n",
      "1. **La France des gagnants de la mondialisation** (cadres, actionnaires, entrepreneurs) : Défend la politique de l'offre et craint une remontée des impôts.\n",
      "2. **La France des classes moyennes précarisées** (salariés, retraités) : Se sent abandonnée, paie des impôts sans voir de retombées, et oscille entre colère contre les riches et peur du déclassement.\n",
      "3. **La France des perdants de la mondialisation** (chômeurs, travailleurs pauvres) : Réclame plus de redistribution et vote RN ou LFI par désespoir.\n",
      "\n",
      "**Le vrai enjeu** n'est pas seulement économique, mais **démocratique** :\n",
      "- Comment rétablir la confiance dans les institutions ?\n",
      "- Comment concilier compétitivité et justice sociale ?\n",
      "- Comment éviter que la colère ne bascule dans le populisme ou le rejet de la démocratie ?\n",
      "\n",
      "Le livre et l'article du *Monde* ont le mérite de poser ces questions, même si les réponses divisent. **La solution passera probablement par un compromis** :\n",
      "- **Moins de gaspillage** (supprimer les aides inefficaces).\n",
      "- **Plus de transparence** (évaluer l'impact des dispositifs).\n",
      "- **Une fiscalité plus progressive** (faire payer davantage les ultra-riches sans étouffer les PME).\n",
      "- **Un État stratège** (investir dans l'éducation, la transition écologique, et l'industrie plutôt que dans des subventions à l'aveugle).\n",
      "\n",
      "---\n",
      "### **Pour aller plus loin**\n",
      "- **Lire** :\n",
      "  - Le rapport sénatorial sur les aides aux entreprises (2023).\n",
      "  - Les travaux de Gabriel Zucman (*Le Triomphe de l'injustice*, 2019) et Thomas Piketty (*Capital et Idéologie*, 2019).\n",
      "  - Les analyses de l'OCDE sur la fiscalité des entreprises en Europe.\n",
      "- **Regarder** :\n",
      "  - Les auditions du Sénat sur les aides publiques (disponibles sur le site du Sénat).\n",
      "  - Les débats sur France Culture ou France Inter avec des économistes de différents bords (ex : Philippe Aghion vs. Thomas Piketty).\n",
      "- **Agir** :\n",
      "  - Exiger de ses élus locaux et nationaux un bilan des aides publiques.\n",
      "  - Soutenir les médias indépendants qui enquêtent sur ces sujets (ex : Mediapart, Cash Investigation).\n",
      "\n",
      "---\n",
      "**En résumé** : Ce débat est bien plus qu'une querelle de chiffres. Il révèle **les tensions d'une société fracturée**, où chacun a l'impression de payer pour les autres sans en tirer de bénéfice. **La solution ne viendra ni d'un \"tout État\" ni d'un \"laissez-faire\" total**, mais d'un **équilibre retrouvé entre efficacité économique et justice sociale** – un équilibre que ni la droite ni la gauche ne semblent aujourd'hui capables de proposer.\n"
     ]
    }
   ],
   "source": [
    "client = Mistral(api_key=MISTRAL_API_KEY)\n",
    "\n",
    "chat_response = client.chat.complete(\n",
    "    model= MODEL,\n",
    "    messages = [\n",
    "        {\n",
    "            \"role\": \"user\",\n",
    "            \"content\": PROMPT_ANALYSE,\n",
    "        },\n",
    "    ]\n",
    ")\n",
    "print(chat_response.choices[0].message.content)"
   ]
  },
  {
   "cell_type": "code",
   "execution_count": 9,
   "id": "4f92f1ef",
   "metadata": {},
   "outputs": [],
   "source": [
    "PROMPT_BOT = f\"\"\"Tu es un expert détection d'ingérence par des bot russes.\n",
    "Parmi tous les commentaires suivantes, séparés par des retours à la ligne, indique celui qui est le plus à même d'être issu d'un bot russe :{comment_txt}\"\"\""
   ]
  },
  {
   "cell_type": "code",
   "execution_count": 10,
   "id": "2e2c64eb",
   "metadata": {},
   "outputs": [
    {
     "name": "stdout",
     "output_type": "stream",
     "text": [
      "Parmi tous les commentaires fournis, le commentaire qui semble le plus susceptible d'être issu d'un bot russe est le suivant :\n",
      "\n",
      "\"Tout le monde sait que les différents gouvernements sont à la solde des riches et en particulier l'actuel président. IL est temps de passer à la caisse, les riches pour le bien de la société.\"\n",
      "\n",
      "Voici pourquoi :\n",
      "\n",
      "1. **Ton Conspiratif** : Ce commentaire utilise un ton très accusatoire et généraliste (\"Tout le monde sait\"), typique des discours de désinformation visant à semer la discorde et le doute envers les institutions.\n",
      "\n",
      "2. **Simplification Extrême** : Il simplifie de manière excessive une situation complexe en accusant directement \"les riches\" et \"l'actuel président\" sans fournir de détails ou de preuves.\n",
      "\n",
      "3. **Appel à l'Action** : L'appel à \"passer à la caisse\" peut être interprété comme une incitation à l'action, ce qui est une tactique courante pour mobiliser les émotions et créer des divisions.\n",
      "\n",
      "4. **Manque de Nuance** : Il n'y a aucune nuance ou reconnaissance des complexités économiques et politiques, ce qui est typique des messages automatisés visant à polariser l'opinion publique.\n",
      "\n",
      "Les bots russes (ou d'autres acteurs malveillants) utilisent souvent des messages simplistes, polarisants et accusateurs pour influencer l'opinion publique et créer des divisions au sein de la société.\n"
     ]
    }
   ],
   "source": [
    "chat_response = client.chat.complete(\n",
    "    model= MODEL,\n",
    "    messages = [\n",
    "        {\n",
    "            \"role\": \"user\",\n",
    "            \"content\": PROMPT_BOT,\n",
    "        },\n",
    "    ]\n",
    ")\n",
    "print(chat_response.choices[0].message.content)"
   ]
  }
 ],
 "metadata": {
  "kernelspec": {
   "display_name": ".venv (3.13.5)",
   "language": "python",
   "name": "python3"
  },
  "language_info": {
   "codemirror_mode": {
    "name": "ipython",
    "version": 3
   },
   "file_extension": ".py",
   "mimetype": "text/x-python",
   "name": "python",
   "nbconvert_exporter": "python",
   "pygments_lexer": "ipython3",
   "version": "3.13.5"
  }
 },
 "nbformat": 4,
 "nbformat_minor": 5
}
